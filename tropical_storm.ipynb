{
 "cells": [
  {
   "cell_type": "code",
   "execution_count": 1,
   "metadata": {},
   "outputs": [],
   "source": [
    "import pandas as pd\n",
    "import matplotlib as plt\n",
    "import matplotlib.pyplot as plt \n",
    "import numpy as np"
   ]
  },
  {
   "cell_type": "code",
   "execution_count": 3,
   "metadata": {},
   "outputs": [
    {
     "data": {
      "text/html": [
       "<div>\n",
       "<style scoped>\n",
       "    .dataframe tbody tr th:only-of-type {\n",
       "        vertical-align: middle;\n",
       "    }\n",
       "\n",
       "    .dataframe tbody tr th {\n",
       "        vertical-align: top;\n",
       "    }\n",
       "\n",
       "    .dataframe thead th {\n",
       "        text-align: right;\n",
       "    }\n",
       "</style>\n",
       "<table border=\"1\" class=\"dataframe\">\n",
       "  <thead>\n",
       "    <tr style=\"text-align: right;\">\n",
       "      <th></th>\n",
       "      <th>Storm #</th>\n",
       "      <th>Date</th>\n",
       "      <th>Time</th>\n",
       "      <th>Lat</th>\n",
       "      <th>Lon</th>\n",
       "      <th>Max</th>\n",
       "      <th>Landfall</th>\n",
       "      <th>Storm</th>\n",
       "    </tr>\n",
       "  </thead>\n",
       "  <tbody>\n",
       "    <tr>\n",
       "      <th>0</th>\n",
       "      <td>NaN</td>\n",
       "      <td>NaN</td>\n",
       "      <td>NaN</td>\n",
       "      <td>NaN</td>\n",
       "      <td>NaN</td>\n",
       "      <td>Winds</td>\n",
       "      <td>State</td>\n",
       "      <td>Names</td>\n",
       "    </tr>\n",
       "    <tr>\n",
       "      <th>1</th>\n",
       "      <td>NaN</td>\n",
       "      <td>NaN</td>\n",
       "      <td>NaN</td>\n",
       "      <td>NaN</td>\n",
       "      <td>NaN</td>\n",
       "      <td>(kt)</td>\n",
       "      <td>NaN</td>\n",
       "      <td>NaN</td>\n",
       "    </tr>\n",
       "    <tr>\n",
       "      <th>2</th>\n",
       "      <td>1850s</td>\n",
       "      <td>NaN</td>\n",
       "      <td>NaN</td>\n",
       "      <td>NaN</td>\n",
       "      <td>NaN</td>\n",
       "      <td>NaN</td>\n",
       "      <td>NaN</td>\n",
       "      <td>NaN</td>\n",
       "    </tr>\n",
       "    <tr>\n",
       "      <th>3</th>\n",
       "      <td>6</td>\n",
       "      <td>10/19/1851</td>\n",
       "      <td>1500Z</td>\n",
       "      <td>41.1N</td>\n",
       "      <td>71.7W</td>\n",
       "      <td>50</td>\n",
       "      <td>NY</td>\n",
       "      <td>NaN</td>\n",
       "    </tr>\n",
       "    <tr>\n",
       "      <th>4</th>\n",
       "      <td>1852</td>\n",
       "      <td>None</td>\n",
       "      <td>NaN</td>\n",
       "      <td>NaN</td>\n",
       "      <td>NaN</td>\n",
       "      <td>NaN</td>\n",
       "      <td>NaN</td>\n",
       "      <td>NaN</td>\n",
       "    </tr>\n",
       "    <tr>\n",
       "      <th>...</th>\n",
       "      <td>...</td>\n",
       "      <td>...</td>\n",
       "      <td>...</td>\n",
       "      <td>...</td>\n",
       "      <td>...</td>\n",
       "      <td>...</td>\n",
       "      <td>...</td>\n",
       "      <td>...</td>\n",
       "    </tr>\n",
       "    <tr>\n",
       "      <th>425</th>\n",
       "      <td>5</td>\n",
       "      <td>2021-09-07 00:00:00</td>\n",
       "      <td>1630Z</td>\n",
       "      <td>41.4</td>\n",
       "      <td>71.7</td>\n",
       "      <td>50</td>\n",
       "      <td>RI</td>\n",
       "      <td>Elsa</td>\n",
       "    </tr>\n",
       "    <tr>\n",
       "      <th>426</th>\n",
       "      <td>6</td>\n",
       "      <td>08/16/2021</td>\n",
       "      <td>1900Z</td>\n",
       "      <td>2022-07-29 00:00:00</td>\n",
       "      <td>85.4</td>\n",
       "      <td>55</td>\n",
       "      <td>FL</td>\n",
       "      <td>Fred</td>\n",
       "    </tr>\n",
       "    <tr>\n",
       "      <th>427</th>\n",
       "      <td>8</td>\n",
       "      <td>08/22/2021</td>\n",
       "      <td>1520Z</td>\n",
       "      <td>41.2</td>\n",
       "      <td>71.6</td>\n",
       "      <td>55</td>\n",
       "      <td>RI</td>\n",
       "      <td>Henri</td>\n",
       "    </tr>\n",
       "    <tr>\n",
       "      <th>428</th>\n",
       "      <td>8</td>\n",
       "      <td>08/22/2021</td>\n",
       "      <td>1615Z</td>\n",
       "      <td>41.3</td>\n",
       "      <td>71.8</td>\n",
       "      <td>55</td>\n",
       "      <td>RI</td>\n",
       "      <td>Henri</td>\n",
       "    </tr>\n",
       "    <tr>\n",
       "      <th>429</th>\n",
       "      <td>13</td>\n",
       "      <td>2021-09-09 00:00:00</td>\n",
       "      <td>0115Z</td>\n",
       "      <td>2022-07-29 00:00:00</td>\n",
       "      <td>85.1</td>\n",
       "      <td>50</td>\n",
       "      <td>FL</td>\n",
       "      <td>Mindy</td>\n",
       "    </tr>\n",
       "  </tbody>\n",
       "</table>\n",
       "<p>430 rows × 8 columns</p>\n",
       "</div>"
      ],
      "text/plain": [
       "    Storm #                 Date   Time                  Lat    Lon    Max  \\\n",
       "0       NaN                  NaN    NaN                  NaN    NaN  Winds   \n",
       "1       NaN                  NaN    NaN                  NaN    NaN   (kt)   \n",
       "2     1850s                  NaN    NaN                  NaN    NaN    NaN   \n",
       "3         6           10/19/1851  1500Z                41.1N  71.7W     50   \n",
       "4      1852                 None    NaN                  NaN    NaN    NaN   \n",
       "..      ...                  ...    ...                  ...    ...    ...   \n",
       "425       5  2021-09-07 00:00:00  1630Z                 41.4   71.7     50   \n",
       "426       6           08/16/2021  1900Z  2022-07-29 00:00:00   85.4     55   \n",
       "427       8           08/22/2021  1520Z                 41.2   71.6     55   \n",
       "428       8           08/22/2021  1615Z                 41.3   71.8     55   \n",
       "429      13  2021-09-09 00:00:00  0115Z  2022-07-29 00:00:00   85.1     50   \n",
       "\n",
       "    Landfall  Storm  \n",
       "0      State  Names  \n",
       "1        NaN    NaN  \n",
       "2        NaN    NaN  \n",
       "3         NY    NaN  \n",
       "4        NaN    NaN  \n",
       "..       ...    ...  \n",
       "425       RI   Elsa  \n",
       "426       FL   Fred  \n",
       "427       RI  Henri  \n",
       "428       RI  Henri  \n",
       "429       FL  Mindy  \n",
       "\n",
       "[430 rows x 8 columns]"
      ]
     },
     "execution_count": 3,
     "metadata": {},
     "output_type": "execute_result"
    }
   ],
   "source": [
    "data = pd.read_excel('all-us-tropical-storms-noaa.xls')\n",
    "data"
   ]
  },
  {
   "cell_type": "code",
   "execution_count": 4,
   "metadata": {},
   "outputs": [],
   "source": [
    "data = data[(data.Date.str.contains(\"None\")) == False] #rows representing years without events should, again, be removed:"
   ]
  },
  {
   "cell_type": "code",
   "execution_count": null,
   "metadata": {},
   "outputs": [],
   "source": [
    "#if needed clean the Date of additional symbols\n",
    "\n",
    "#data['Date'] = data.Date.str.replace('\\$', '')\n",
    "#data['Date'] = data.Date.str.replace('\\*', '')\n",
    "#data['Date'] = data.Date.str.replace('\\#', '')\n",
    "#data['Date'] = data.Date.str.replace('\\%', '')\n",
    "#data['Date'] = data.Date.str.replace('\\&', '')"
   ]
  },
  {
   "cell_type": "code",
   "execution_count": 9,
   "metadata": {},
   "outputs": [],
   "source": [
    "data.columns =['Storm#', 'Date', 'Time', 'Lat', 'Lon', \n",
    "             'MaxWinds', 'LandfallState', 'StormName'] #rename column names"
   ]
  },
  {
   "cell_type": "code",
   "execution_count": null,
   "metadata": {},
   "outputs": [],
   "source": [
    "#data['Date'] = pd.to_datetime(data['Date']) #cast date time type to date column"
   ]
  },
  {
   "cell_type": "code",
   "execution_count": 13,
   "metadata": {},
   "outputs": [],
   "source": [
    "df1 = data[['Date','MaxWinds']] #create new df containing MaxWinds and Date"
   ]
  },
  {
   "cell_type": "code",
   "execution_count": 16,
   "metadata": {},
   "outputs": [
    {
     "data": {
      "text/plain": [
       "<AxesSubplot:>"
      ]
     },
     "execution_count": 16,
     "metadata": {},
     "output_type": "execute_result"
    },
    {
     "data": {
      "image/png": "[encoded data removed]",
      "text/plain": [
       "<Figure size 432x288 with 1 Axes>"
      ]
     },
     "metadata": {
      "needs_background": "light"
     },
     "output_type": "display_data"
    }
   ],
   "source": [
    "df1['Date'].hist() #no upward trend"
   ]
  },
  {
   "cell_type": "code",
   "execution_count": 17,
   "metadata": {},
   "outputs": [
    {
     "name": "stdout",
     "output_type": "stream",
     "text": [
      "(304, 2)\n"
     ]
    }
   ],
   "source": [
    "print(df1.shape) #number of rows and columns"
   ]
  },
  {
   "cell_type": "code",
   "execution_count": 18,
   "metadata": {},
   "outputs": [
    {
     "data": {
      "text/html": [
       "<div>\n",
       "<style scoped>\n",
       "    .dataframe tbody tr th:only-of-type {\n",
       "        vertical-align: middle;\n",
       "    }\n",
       "\n",
       "    .dataframe tbody tr th {\n",
       "        vertical-align: top;\n",
       "    }\n",
       "\n",
       "    .dataframe thead th {\n",
       "        text-align: right;\n",
       "    }\n",
       "</style>\n",
       "<table border=\"1\" class=\"dataframe\">\n",
       "  <thead>\n",
       "    <tr style=\"text-align: right;\">\n",
       "      <th></th>\n",
       "      <th>Date</th>\n",
       "      <th>MaxWinds</th>\n",
       "    </tr>\n",
       "  </thead>\n",
       "  <tbody>\n",
       "    <tr>\n",
       "      <th>3</th>\n",
       "      <td>1851-10-19</td>\n",
       "      <td>50</td>\n",
       "    </tr>\n",
       "    <tr>\n",
       "      <th>8</th>\n",
       "      <td>1856-08-19</td>\n",
       "      <td>50</td>\n",
       "    </tr>\n",
       "    <tr>\n",
       "      <th>9</th>\n",
       "      <td>1857-09-30</td>\n",
       "      <td>50</td>\n",
       "    </tr>\n",
       "    <tr>\n",
       "      <th>10</th>\n",
       "      <td>1858-09-14</td>\n",
       "      <td>60</td>\n",
       "    </tr>\n",
       "    <tr>\n",
       "      <th>11</th>\n",
       "      <td>1858-09-16</td>\n",
       "      <td>50</td>\n",
       "    </tr>\n",
       "    <tr>\n",
       "      <th>...</th>\n",
       "      <td>...</td>\n",
       "      <td>...</td>\n",
       "    </tr>\n",
       "    <tr>\n",
       "      <th>421</th>\n",
       "      <td>2021-06-19</td>\n",
       "      <td>40</td>\n",
       "    </tr>\n",
       "    <tr>\n",
       "      <th>422</th>\n",
       "      <td>2021-06-28</td>\n",
       "      <td>35</td>\n",
       "    </tr>\n",
       "    <tr>\n",
       "      <th>426</th>\n",
       "      <td>2021-08-16</td>\n",
       "      <td>55</td>\n",
       "    </tr>\n",
       "    <tr>\n",
       "      <th>427</th>\n",
       "      <td>2021-08-22</td>\n",
       "      <td>55</td>\n",
       "    </tr>\n",
       "    <tr>\n",
       "      <th>428</th>\n",
       "      <td>2021-08-22</td>\n",
       "      <td>55</td>\n",
       "    </tr>\n",
       "  </tbody>\n",
       "</table>\n",
       "<p>304 rows × 2 columns</p>\n",
       "</div>"
      ],
      "text/plain": [
       "          Date MaxWinds\n",
       "3   1851-10-19       50\n",
       "8   1856-08-19       50\n",
       "9   1857-09-30       50\n",
       "10  1858-09-14       60\n",
       "11  1858-09-16       50\n",
       "..         ...      ...\n",
       "421 2021-06-19       40\n",
       "422 2021-06-28       35\n",
       "426 2021-08-16       55\n",
       "427 2021-08-22       55\n",
       "428 2021-08-22       55\n",
       "\n",
       "[304 rows x 2 columns]"
      ]
     },
     "execution_count": 18,
     "metadata": {},
     "output_type": "execute_result"
    }
   ],
   "source": [
    "df1 #"
   ]
  },
  {
   "cell_type": "code",
   "execution_count": 19,
   "metadata": {},
   "outputs": [],
   "source": [
    "#divide data based on the wind speed into new data frames\n",
    "df_30 = df1[df1['MaxWinds'].between(30, 39)]\n",
    "df_40 = df1[df1['MaxWinds'].between(40, 49)]\n",
    "df_50 = df1[df1['MaxWinds'].between(50, 59)]\n",
    "df_60 = df1[df1['MaxWinds'].between(60, 79)]"
   ]
  },
  {
   "cell_type": "code",
   "execution_count": 20,
   "metadata": {},
   "outputs": [
    {
     "name": "stdout",
     "output_type": "stream",
     "text": [
      "The number of storms between 30 and 39:  43\n",
      "The number of storms between 40 and 49:  91\n",
      "The number of storms between 50 and 59:  119\n",
      "The number of storms between 60 and 79:  51\n"
     ]
    }
   ],
   "source": [
    "#check the number of rows per each data set\n",
    "st1 = len(df_30.index)\n",
    "print('The number of storms between 30 and 39: ', st1)\n",
    "st2 = len(df_40.index)\n",
    "print('The number of storms between 40 and 49: ', st2)\n",
    "st3 = len(df_50.index)\n",
    "print('The number of storms between 50 and 59: ', st3)\n",
    "st4 = len(df_60.index)\n",
    "print('The number of storms between 60 and 79: ', st4)"
   ]
  },
  {
   "cell_type": "code",
   "execution_count": 21,
   "metadata": {},
   "outputs": [
    {
     "data": {
      "text/plain": [
       "40    61\n",
       "45    30\n",
       "Name: MaxWinds, dtype: int64"
      ]
     },
     "execution_count": 21,
     "metadata": {},
     "output_type": "execute_result"
    }
   ],
   "source": [
    "#check subcategories\n",
    "df_40['MaxWinds'].value_counts()"
   ]
  },
  {
   "cell_type": "code",
   "execution_count": 27,
   "metadata": {},
   "outputs": [
    {
     "data": {
      "text/plain": [
       "<matplotlib.legend.Legend at 0x1a5c54e5820>"
      ]
     },
     "execution_count": 27,
     "metadata": {},
     "output_type": "execute_result"
    },
    {
     "data": {
      "image/png": "[encoded data removed]",
      "text/plain": [
       "<Figure size 432x288 with 1 Axes>"
      ]
     },
     "metadata": {
      "needs_background": "light"
     },
     "output_type": "display_data"
    }
   ],
   "source": [
    "#plot alltogether\n",
    "\n",
    "import matplotlib.pyplot as plt\n",
    "fig = plt.figure()\n",
    "ax = plt.subplot(111)\n",
    "df_30['MaxWinds'].plot(ax=ax, label='df_30')\n",
    "df_40['MaxWinds'].plot(ax=ax, label='df_40')\n",
    "df_50['MaxWinds'].plot(ax=ax, label='df_50')\n",
    "df_60['MaxWinds'].plot(ax=ax, label='df_60')\n",
    "ax.set_ylabel('Wind Speed In Knots')\n",
    "ax.set_xlabel('Time Between 1851 and 2019')\n",
    "plt.title('Tropical Storms by Maximum Wind Speeds (knots)')\n",
    "ax.legend(loc='lower left')"
   ]
  },
  {
   "cell_type": "code",
   "execution_count": 31,
   "metadata": {},
   "outputs": [
    {
     "data": {
      "text/plain": [
       "<AxesSubplot:>"
      ]
     },
     "execution_count": 31,
     "metadata": {},
     "output_type": "execute_result"
    },
    {
     "data": {
      "image/png": "[encoded data removed]",
      "text/plain": [
       "<Figure size 432x288 with 1 Axes>"
      ]
     },
     "metadata": {
      "needs_background": "light"
     },
     "output_type": "display_data"
    }
   ],
   "source": [
    "df_30['Date'].hist(bins=30)"
   ]
  },
  {
   "cell_type": "code",
   "execution_count": 32,
   "metadata": {},
   "outputs": [
    {
     "data": {
      "text/plain": [
       "<AxesSubplot:>"
      ]
     },
     "execution_count": 32,
     "metadata": {},
     "output_type": "execute_result"
    },
    {
     "data": {
      "image/png": "[encoded data removed]",
      "text/plain": [
       "<Figure size 432x288 with 1 Axes>"
      ]
     },
     "metadata": {
      "needs_background": "light"
     },
     "output_type": "display_data"
    }
   ],
   "source": [
    "df_40['Date'].hist(bins=30)"
   ]
  },
  {
   "cell_type": "code",
   "execution_count": 33,
   "metadata": {},
   "outputs": [
    {
     "data": {
      "text/plain": [
       "<AxesSubplot:>"
      ]
     },
     "execution_count": 33,
     "metadata": {},
     "output_type": "execute_result"
    },
    {
     "data": {
      "image/png": "[encoded data removed]",
      "text/plain": [
       "<Figure size 432x288 with 1 Axes>"
      ]
     },
     "metadata": {
      "needs_background": "light"
     },
     "output_type": "display_data"
    }
   ],
   "source": [
    "df_50['Date'].hist(bins=30)"
   ]
  },
  {
   "cell_type": "code",
   "execution_count": 34,
   "metadata": {},
   "outputs": [
    {
     "data": {
      "text/plain": [
       "<AxesSubplot:>"
      ]
     },
     "execution_count": 34,
     "metadata": {},
     "output_type": "execute_result"
    },
    {
     "data": {
      "image/png": "[encoded data removed]",
      "text/plain": [
       "<Figure size 432x288 with 1 Axes>"
      ]
     },
     "metadata": {
      "needs_background": "light"
     },
     "output_type": "display_data"
    }
   ],
   "source": [
    "df_60['Date'].hist(bins=30)"
   ]
  }
 ],
 "metadata": {
  "kernelspec": {
   "display_name": "Python 3.9.7 ('base')",
   "language": "python",
   "name": "python3"
  },
  "language_info": {
   "codemirror_mode": {
    "name": "ipython",
    "version": 3
   },
   "file_extension": ".py",
   "mimetype": "text/x-python",
   "name": "python",
   "nbconvert_exporter": "python",
   "pygments_lexer": "ipython3",
   "version": "3.9.7"
  },
  "orig_nbformat": 4,
  "vscode": {
   "interpreter": {
    "hash": "ad2bdc8ecc057115af97d19610ffacc2b4e99fae6737bb82f5d7fb13d2f2c186"
   }
  }
 },
 "nbformat": 4,
 "nbformat_minor": 2
}
