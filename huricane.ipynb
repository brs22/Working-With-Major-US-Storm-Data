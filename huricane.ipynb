{
 "cells": [
  {
   "cell_type": "code",
   "execution_count": 2,
   "metadata": {},
   "outputs": [
    {
     "data": {
      "text/plain": [
       "Year                                      object\n",
       "Month                                     object\n",
       "States Affected and Category by States    object\n",
       "Highest                                   object\n",
       "Central Pressure                          object\n",
       "Max Wind                                  object\n",
       "Name                                      object\n",
       "dtype: object"
      ]
     },
     "execution_count": 2,
     "metadata": {},
     "output_type": "execute_result"
    }
   ],
   "source": [
    "import pandas as pd\n",
    "import matplotlib as plt\n",
    "import matplotlib.pyplot as plt \n",
    "import numpy as np\n",
    "\n",
    "data = pd.read_excel('all-us-hurricanes-noaa.xls')\n",
    "data.dtypes"
   ]
  },
  {
   "cell_type": "code",
   "execution_count": 3,
   "metadata": {},
   "outputs": [],
   "source": [
    "data.columns =['Year', 'Month', 'States', 'Category', \n",
    "             'Pressure', 'Max Wind', 'Name'] "
   ]
  },
  {
   "cell_type": "code",
   "execution_count": 4,
   "metadata": {},
   "outputs": [],
   "source": [
    "data = data.replace('Sp-Oc','Sep') #replace two multi-month rows\n",
    "data = data.replace('Jl-Au','Jul') #replace two multi-month rows"
   ]
  },
  {
   "cell_type": "code",
   "execution_count": 5,
   "metadata": {},
   "outputs": [],
   "source": [
    "data = data.dropna(axis = 0, how ='any', thresh = None, subset = None, inplace=False) #drop all rows with NAN values"
   ]
  },
  {
   "cell_type": "code",
   "execution_count": 6,
   "metadata": {},
   "outputs": [],
   "source": [
    "data = data.astype({'Year': 'int'}) \n",
    "data = data.replace('-----',np.NaN)\n",
    "data = data.astype({'Max Wind': 'float'})"
   ]
  },
  {
   "cell_type": "code",
   "execution_count": 7,
   "metadata": {},
   "outputs": [],
   "source": [
    "data.Month = pd.to_datetime(data.Month, format='%b').dt.month"
   ]
  },
  {
   "cell_type": "code",
   "execution_count": 8,
   "metadata": {},
   "outputs": [
    {
     "data": {
      "text/plain": [
       "Year          int32\n",
       "Month         int64\n",
       "States       object\n",
       "Category      int64\n",
       "Pressure      int64\n",
       "Max Wind    float64\n",
       "Name         object\n",
       "dtype: object"
      ]
     },
     "execution_count": 8,
     "metadata": {},
     "output_type": "execute_result"
    }
   ],
   "source": [
    "data.dtypes"
   ]
  },
  {
   "cell_type": "code",
   "execution_count": 9,
   "metadata": {},
   "outputs": [],
   "source": [
    "#run if needed to get rid of nan in Names column\n",
    "#data = data.dropna(axis = 0, how ='any', thresh = None, subset = None, inplace=False) #drop all rows with NAN values"
   ]
  },
  {
   "cell_type": "code",
   "execution_count": 10,
   "metadata": {},
   "outputs": [
    {
     "data": {
      "text/plain": [
       "1    122\n",
       "2     84\n",
       "3     63\n",
       "4     28\n",
       "5      4\n",
       "Name: Category, dtype: int64"
      ]
     },
     "execution_count": 10,
     "metadata": {},
     "output_type": "execute_result"
    }
   ],
   "source": [
    "#break out the three metrics: hurricane category, barometric pressure, and maximum wind speeds.\n",
    "data['Category'].value_counts()"
   ]
  },
  {
   "cell_type": "code",
   "execution_count": 19,
   "metadata": {},
   "outputs": [
    {
     "data": {
      "text/plain": [
       "array([[<AxesSubplot:title={'center':'Year'}>]], dtype=object)"
      ]
     },
     "execution_count": 19,
     "metadata": {},
     "output_type": "execute_result"
    },
    {
     "data": {
      "image/png": "[encoded data removed]",
      "text/plain": [
       "<Figure size 432x288 with 1 Axes>"
      ]
     },
     "metadata": {
      "needs_background": "light"
     },
     "output_type": "display_data"
    }
   ],
   "source": [
    "#histogram of whole data set - overview of the number of events (represented on the y-axis) through history\n",
    "data.hist(column='Year', bins=50) #bins changes the width of bars and may mask/unmask some trends"
   ]
  },
  {
   "cell_type": "code",
   "execution_count": 20,
   "metadata": {},
   "outputs": [],
   "source": [
    "# to focus on each metric, and plot three separate graphs.\n",
    "# create three new dataframes and populate each one with the contents of the Year column \n",
    "# and the respective data column.\n",
    "\n",
    "df_category = data[['Year','Category']]\n",
    "df_wind = data[['Year','Max Wind']]\n",
    "df_pressure = data[['Year','Pressure']]"
   ]
  },
  {
   "cell_type": "code",
   "execution_count": 24,
   "metadata": {},
   "outputs": [
    {
     "data": {
      "image/png": "[encoded data removed]",
      "text/plain": [
       "<Figure size 432x288 with 1 Axes>"
      ]
     },
     "metadata": {
      "needs_background": "light"
     },
     "output_type": "display_data"
    },
    {
     "data": {
      "image/png": "[encoded data removed]",
      "text/plain": [
       "<Figure size 432x288 with 1 Axes>"
      ]
     },
     "metadata": {
      "needs_background": "light"
     },
     "output_type": "display_data"
    },
    {
     "data": {
      "image/png": "[encoded data removed]",
      "text/plain": [
       "<Figure size 432x288 with 1 Axes>"
      ]
     },
     "metadata": {
      "needs_background": "light"
     },
     "output_type": "display_data"
    },
    {
     "data": {
      "image/png": "[encoded data removed]",
      "text/plain": [
       "<Figure size 432x288 with 1 Axes>"
      ]
     },
     "metadata": {
      "needs_background": "light"
     },
     "output_type": "display_data"
    },
    {
     "data": {
      "image/png": "[encoded data removed]",
      "text/plain": [
       "<Figure size 432x288 with 1 Axes>"
      ]
     },
     "metadata": {
      "needs_background": "light"
     },
     "output_type": "display_data"
    }
   ],
   "source": [
    "#break data by category into 5 subplots, which presents the frequency of severity of storms\n",
    "\n",
    "for x in range(1, 5+1): #for loop to itterate through categories 1-5\n",
    "    cat_num = x\n",
    "    converted_num = str(cat_num) \n",
    "    dfcat = df_category['Category']==(x)\n",
    "    df1 = df_category[dfcat] #temporary data frame\n",
    "    df1.hist(column='Year', bins=25)\n",
    "    plt.title(\"Total Category \" + (converted_num) + \" Events\")"
   ]
  }
 ],
 "metadata": {
  "kernelspec": {
   "display_name": "Python 3.9.7 ('base')",
   "language": "python",
   "name": "python3"
  },
  "language_info": {
   "codemirror_mode": {
    "name": "ipython",
    "version": 3
   },
   "file_extension": ".py",
   "mimetype": "text/x-python",
   "name": "python",
   "nbconvert_exporter": "python",
   "pygments_lexer": "ipython3",
   "version": "3.9.7"
  },
  "orig_nbformat": 4,
  "vscode": {
   "interpreter": {
    "hash": "ad2bdc8ecc057115af97d19610ffacc2b4e99fae6737bb82f5d7fb13d2f2c186"
   }
  }
 },
 "nbformat": 4,
 "nbformat_minor": 2
}
