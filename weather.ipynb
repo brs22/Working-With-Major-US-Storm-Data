{
 "cells": [
  {
   "cell_type": "code",
   "execution_count": 96,
   "metadata": {},
   "outputs": [
    {
     "data": {
      "text/plain": [
       "Year                                      object\n",
       "Month                                     object\n",
       "States Affected and Category by States    object\n",
       "Highest                                   object\n",
       "Central Pressure                          object\n",
       "Max Wind                                  object\n",
       "Name                                      object\n",
       "dtype: object"
      ]
     },
     "execution_count": 96,
     "metadata": {},
     "output_type": "execute_result"
    }
   ],
   "source": [
    "import pandas as pd\n",
    "import matplotlib as plt\n",
    "import matplotlib.pyplot as plt \n",
    "import numpy as np\n",
    "\n",
    "data = pd.read_excel('all-us-hurricanes-noaa.xls')\n",
    "data.dtypes"
   ]
  },
  {
   "cell_type": "code",
   "execution_count": 97,
   "metadata": {},
   "outputs": [],
   "source": [
    "data.columns =['Year', 'Month', 'States', 'Category', \n",
    "             'Pressure', 'Max Wind', 'Name'] "
   ]
  },
  {
   "cell_type": "code",
   "execution_count": 98,
   "metadata": {},
   "outputs": [],
   "source": [
    "data = data.replace('Sp-Oc','Sep') #replace two multi-month rows\n",
    "data = data.replace('Jl-Au','Jul') #replace two multi-month rows"
   ]
  },
  {
   "cell_type": "code",
   "execution_count": 100,
   "metadata": {},
   "outputs": [],
   "source": [
    "data = data.dropna(axis = 0, how ='any', thresh = None, subset = None, inplace=False) #drop all rows with NAN values"
   ]
  },
  {
   "cell_type": "code",
   "execution_count": 101,
   "metadata": {},
   "outputs": [],
   "source": [
    "data = data.astype({'Year': 'int'}) \n",
    "data = data.replace('-----',np.NaN)\n",
    "data = data.astype({'Max Wind': 'float'})"
   ]
  },
  {
   "cell_type": "code",
   "execution_count": 102,
   "metadata": {},
   "outputs": [],
   "source": [
    "data.Month = pd.to_datetime(data.Month, format='%b').dt.month"
   ]
  },
  {
   "cell_type": "code",
   "execution_count": 103,
   "metadata": {},
   "outputs": [],
   "source": [
    "data = data.dropna(axis = 0, how ='any', thresh = None, subset = None, inplace=False) #drop all rows with NAN values"
   ]
  }
 ],
 "metadata": {
  "kernelspec": {
   "display_name": "Python 3.9.7 ('base')",
   "language": "python",
   "name": "python3"
  },
  "language_info": {
   "codemirror_mode": {
    "name": "ipython",
    "version": 3
   },
   "file_extension": ".py",
   "mimetype": "text/x-python",
   "name": "python",
   "nbconvert_exporter": "python",
   "pygments_lexer": "ipython3",
   "version": "3.9.7"
  },
  "orig_nbformat": 4,
  "vscode": {
   "interpreter": {
    "hash": "ad2bdc8ecc057115af97d19610ffacc2b4e99fae6737bb82f5d7fb13d2f2c186"
   }
  }
 },
 "nbformat": 4,
 "nbformat_minor": 2
}
